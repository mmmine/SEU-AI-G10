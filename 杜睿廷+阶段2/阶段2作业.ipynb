{
 "cells": [
  {
   "cell_type": "markdown",
   "metadata": {},
   "source": [
    "# 手写数字识别kears版本"
   ]
  },
  {
   "cell_type": "code",
   "execution_count": 1,
   "metadata": {},
   "outputs": [],
   "source": [
    "import tensorflow as tf\n",
    "import tensorflow.keras as kears\n",
    "import tensorflow.keras.datasets.mnist as mnist\n",
    "import tensorflow.keras.layers as layers\n",
    "\n",
    "#加载数据集\n",
    "(data_train, label_train), (data_test, label_test) = mnist.load_data()\n",
    "\n",
    "# print(data_train.shape, label_train.shape)   # 训练样本集\n",
    "# print(data_test.shape, label_test.shape)   # 测试样本集"
   ]
  },
  {
   "cell_type": "code",
   "execution_count": 2,
   "metadata": {},
   "outputs": [
    {
     "data": {
      "image/png": "[encoded data removed]",
      "text/plain": [
       "<Figure size 432x288 with 1 Axes>"
      ]
     },
     "metadata": {
      "needs_background": "light"
     },
     "output_type": "display_data"
    }
   ],
   "source": [
    "%matplotlib inline\n",
    "import matplotlib.pyplot as plt\n",
    "plt.imshow(data_train[0])\n",
    "plt.show()"
   ]
  },
  {
   "cell_type": "code",
   "execution_count": 3,
   "metadata": {},
   "outputs": [
    {
     "name": "stdout",
     "output_type": "stream",
     "text": [
      "(60000, 784)\n"
     ]
    }
   ],
   "source": [
    "data_train=data_train.reshape(60000,784)\n",
    "data_test=data_test.reshape(10000,784)\n",
    "print(data_train.shape)"
   ]
  },
  {
   "cell_type": "code",
   "execution_count": 4,
   "metadata": {},
   "outputs": [],
   "source": [
    "#归一化，使原来0到255的值变到0到1之间\n",
    "data_train=data_train/255\n",
    "data_test=data_test/255"
   ]
  },
  {
   "cell_type": "code",
   "execution_count": 5,
   "metadata": {},
   "outputs": [
    {
     "name": "stdout",
     "output_type": "stream",
     "text": [
      "5\n",
      "[0. 0. 0. 0. 0. 1. 0. 0. 0. 0.]\n",
      "[0. 0. 0. 0. 0. 0. 0. 1. 0. 0.]\n"
     ]
    }
   ],
   "source": [
    "#将labels处理成one-hot\n",
    "print(label_train[0])\n",
    "label_train=kears.utils.to_categorical(label_train,10)\n",
    "print(label_train[0])\n",
    "label_test=kears.utils.to_categorical(label_test,10)\n",
    "print(label_test[0])"
   ]
  },
  {
   "cell_type": "code",
   "execution_count": 7,
   "metadata": {},
   "outputs": [],
   "source": [
    "#数据处理完毕，开始构建神经网络\n",
    "model=kears.Sequential()\n",
    "model.add(layers.Dense(512,activation=\"relu\",input_shape=(784,)))\n",
    "model.add(layers.Dense(256,activation=\"relu\"))\n",
    "model.add(layers.Dense(10,activation=\"softmax\"))"
   ]
  },
  {
   "cell_type": "code",
   "execution_count": 8,
   "metadata": {},
   "outputs": [
    {
     "name": "stdout",
     "output_type": "stream",
     "text": [
      "Model: \"sequential_1\"\n",
      "_________________________________________________________________\n",
      "Layer (type)                 Output Shape              Param #   \n",
      "=================================================================\n",
      "dense_3 (Dense)              (None, 512)               401920    \n",
      "_________________________________________________________________\n",
      "dense_4 (Dense)              (None, 256)               131328    \n",
      "_________________________________________________________________\n",
      "dense_5 (Dense)              (None, 10)                2570      \n",
      "=================================================================\n",
      "Total params: 535,818\n",
      "Trainable params: 535,818\n",
      "Non-trainable params: 0\n",
      "_________________________________________________________________\n"
     ]
    }
   ],
   "source": [
    "#查看模型结构\n",
    "model.summary()"
   ]
  },
  {
   "cell_type": "code",
   "execution_count": 9,
   "metadata": {},
   "outputs": [
    {
     "name": "stdout",
     "output_type": "stream",
     "text": [
      "Train on 60000 samples, validate on 10000 samples\n",
      "Epoch 1/20\n",
      "60000/60000 [==============================] - 4s 66us/sample - loss: 0.2158 - acc: 0.9351 - val_loss: 0.1001 - val_acc: 0.9699\n",
      "Epoch 2/20\n",
      "60000/60000 [==============================] - 4s 67us/sample - loss: 0.0802 - acc: 0.9756 - val_loss: 0.0755 - val_acc: 0.9761\n",
      "Epoch 3/20\n",
      "60000/60000 [==============================] - 4s 63us/sample - loss: 0.0512 - acc: 0.9834 - val_loss: 0.0734 - val_acc: 0.9771\n",
      "Epoch 4/20\n",
      "60000/60000 [==============================] - 4s 63us/sample - loss: 0.0380 - acc: 0.9877 - val_loss: 0.0648 - val_acc: 0.9802\n",
      "Epoch 5/20\n",
      "60000/60000 [==============================] - 4s 65us/sample - loss: 0.0235 - acc: 0.9923 - val_loss: 0.0695 - val_acc: 0.9804\n",
      "Epoch 6/20\n",
      "60000/60000 [==============================] - 4s 58us/sample - loss: 0.0245 - acc: 0.9919 - val_loss: 0.0903 - val_acc: 0.9758\n",
      "Epoch 7/20\n",
      "60000/60000 [==============================] - 4s 61us/sample - loss: 0.0175 - acc: 0.9939 - val_loss: 0.0955 - val_acc: 0.9749\n",
      "Epoch 8/20\n",
      "60000/60000 [==============================] - 4s 64us/sample - loss: 0.0162 - acc: 0.9946 - val_loss: 0.0864 - val_acc: 0.9789\n",
      "Epoch 9/20\n",
      "60000/60000 [==============================] - 4s 64us/sample - loss: 0.0133 - acc: 0.9954 - val_loss: 0.0876 - val_acc: 0.9791\n",
      "Epoch 10/20\n",
      "60000/60000 [==============================] - 4s 69us/sample - loss: 0.0127 - acc: 0.9959 - val_loss: 0.0999 - val_acc: 0.9761\n",
      "Epoch 11/20\n",
      "60000/60000 [==============================] - 4s 62us/sample - loss: 0.0154 - acc: 0.9950 - val_loss: 0.0928 - val_acc: 0.9780\n",
      "Epoch 12/20\n",
      "60000/60000 [==============================] - 4s 62us/sample - loss: 0.0108 - acc: 0.9963 - val_loss: 0.0865 - val_acc: 0.9831\n",
      "Epoch 13/20\n",
      "60000/60000 [==============================] - 4s 63us/sample - loss: 0.0089 - acc: 0.9973 - val_loss: 0.0860 - val_acc: 0.9814\n",
      "Epoch 14/20\n",
      "60000/60000 [==============================] - 4s 68us/sample - loss: 0.0098 - acc: 0.9969 - val_loss: 0.0866 - val_acc: 0.9832\n",
      "Epoch 15/20\n",
      "60000/60000 [==============================] - 4s 70us/sample - loss: 0.0114 - acc: 0.9962 - val_loss: 0.0833 - val_acc: 0.9826\n",
      "Epoch 16/20\n",
      "60000/60000 [==============================] - 4s 63us/sample - loss: 0.0071 - acc: 0.9975 - val_loss: 0.0881 - val_acc: 0.9825\n",
      "Epoch 17/20\n",
      "60000/60000 [==============================] - 4s 66us/sample - loss: 0.0077 - acc: 0.9978 - val_loss: 0.1091 - val_acc: 0.9799\n",
      "Epoch 18/20\n",
      "60000/60000 [==============================] - 4s 66us/sample - loss: 0.0086 - acc: 0.9973 - val_loss: 0.0954 - val_acc: 0.9807\n",
      "Epoch 19/20\n",
      "60000/60000 [==============================] - 4s 63us/sample - loss: 0.0084 - acc: 0.9972 - val_loss: 0.1036 - val_acc: 0.9798\n",
      "Epoch 20/20\n",
      "60000/60000 [==============================] - 4s 62us/sample - loss: 0.0079 - acc: 0.9973 - val_loss: 0.1174 - val_acc: 0.9795\n"
     ]
    },
    {
     "data": {
      "text/plain": [
       "<tensorflow.python.keras.callbacks.History at 0x1700544c908>"
      ]
     },
     "execution_count": 9,
     "metadata": {},
     "output_type": "execute_result"
    }
   ],
   "source": [
    "model.compile(optimizer=\"adam\",loss='categorical_crossentropy',metrics=['accuracy'])\n",
    "#print(label_test[0])\n",
    "#print(label_train[0])\n",
    "model.fit(x=data_train,y=label_train,batch_size=100,epochs=20,validation_data=(data_test,label_test))"
   ]
  },
  {
   "cell_type": "markdown",
   "metadata": {},
   "source": [
    "# Tensorboard版本"
   ]
  },
  {
   "cell_type": "code",
   "execution_count": null,
   "metadata": {},
   "outputs": [],
   "source": [
    "import tensorflow  as tf\n",
    "from tensorflow.examples.tutorials.mnist import input_data\n",
    "from tensorflow.contrib.tensorboard.plugins import projector\n",
    "\n",
    "#载入数据集\n",
    "mnist = input_data.read_data_sets(\"MNIST_data/\",one_hot=True)\n",
    "#运行次数\n",
    "max_steps = 50\n",
    "#图片数量\n",
    "image_num = 3000\n",
    "#文件路径\n",
    "DIR = \"F:/jupyter_notebook/tensorflow_test\"\n",
    "\n",
    "#定乂会活\n",
    "sess = tf.Session()\n",
    "#载入囹片\n",
    "embedding = tf.Variable(tf.stack(mnist.test.images[:image_num]),trainable=False,name='embedding' )\n",
    "\n",
    "#参数概要\n",
    "def variable_summaries(var):\n",
    "    with tf.name_scope('summaries'):\n",
    "        mean = tf.reduce_mean(var)\n",
    "        tf.summary.scalar( 'mean',mean) #平均値\n",
    "        with tf.name_scope('stddev'):\n",
    "            stddev = tf.sqrt(tf.reduce_mean(tf.square(var - mean)))\n",
    "        tf.summary.scalar('stddev',stddev) #标准差\n",
    "        tf.summary.scalar('max',tf.reduce_max(var))#最大値\n",
    "        tf.summary.scalar('min', tf.reduce_min(var)) #最小値\n",
    "        tf.summary.histogram('histogram',var) #直方图\n",
    "\n",
    "\n",
    "#命名空间\n",
    "with tf.name_scope('input'):\n",
    "    #这里的none表示第一个维度可以是任意的长度\n",
    "    x = tf.placeholder(tf.float32,[None, 784],name='x-input')\n",
    "    #正确的标签\n",
    "    y = tf.placeholder(tf.float32,[None, 10],name='y-input')\n",
    "\n",
    "#显示图片\n",
    "with tf.name_scope('input.reshape'):\n",
    "    image_shaped_input = tf.reshape(x,[-1,28,28,1])\n",
    "    tf.summary.image('input',image_shaped_input,10)\n",
    "\n",
    "with tf.name_scope('layer'):\n",
    "    #创建一一个简单神经网络\n",
    "    with tf.name_scope('weights'):\n",
    "        W = tf.Variable(tf.zeros([784,10]),name='W')\n",
    "        variable_summaries (W)\n",
    "\n",
    "    with tf.name_scope('biases'):\n",
    "        b = tf.Variable(tf.zeros([10]),name='b' )\n",
    "        variable_summaries (b)\n",
    "    with tf.name_scope('wx_plus_b') :\n",
    "        wx_plus_b = tf.matmul(x,W) + b\n",
    "    with tf.name_scope('softmax'):\n",
    "        prediction = tf.nn.softmax(wx_plus_b)\n",
    "\n",
    "with tf.name_scope('loss'):\n",
    "    #交叉熵代价函数\n",
    "    loss=tf.reduce_mean(tf.nn.softmax_cross_entropy_with_logits_v2(labels=y,logits=prediction))\n",
    "    tf.summary.scalar('1oss',loss)\n",
    "with tf.name_scope('train'):\n",
    "    train_step=tf.train.AdamOptimizer(0.001).minimize(loss)\n",
    "\n",
    "#初始化变量\n",
    "sess.run(tf.global_variables_initializer())\n",
    "\n",
    "with tf.name_scope('accuracy'):\n",
    "    with tf.name_scope('correct_prediction') :\n",
    "        #结果存放在一个布尔型列表中\n",
    "        correct_prediction = tf.equal(tf.argmax(y,1),tf.argmax(prediction,1))#argmax返回-维张量中最大的值所在的位置\n",
    "    with tf.name_scope('accuracy'):\n",
    "        #求准确率\n",
    "        accuracy = tf.reduce_mean(tf.cast(correct_prediction,tf.float32)) #把correct_prediction变为float32类型\n",
    "        tf.summary.scalar('accuracy',accuracy)\n",
    "\n",
    "#产生metadata文件\n",
    "if tf.gfile.Exists(DIR + '/projector/projector/metadata.tsv'):\n",
    "    tf.gfile.DeleteRecursively(DIR +'/projector/projector/metadata.tsv')\n",
    "with open(DIR+'/projector/projector/metadata.tsv','w') as f:\n",
    "    labels=sess.run(tf.argmax(mnist.test.labels[:],1))\n",
    "    for i in range(image_num):\n",
    "        f.write(str(labels[i])+'\\n')\n",
    "\n",
    "#合并所有的summary\n",
    "merged = tf.summary.merge_all()\n",
    "\n",
    "projector_writer =tf.summary.FileWriter(DIR +'/projector/projector',sess.graph)\n",
    "saver = tf.train.Saver()\n",
    "config = projector.ProjectorConfig()\n",
    "embed = config.embeddings.add()\n",
    "embed.tensor_name = embedding.name\n",
    "embed.metadata_path = DIR +'/projector/projector/metadata.tsv'\n",
    "embed.sprite.image_path = DIR +'projector/data/mnist_10k_sprite.png'\n",
    "embed.sprite.single_image_dim.extend([28, 28])\n",
    "projector.visualize_embeddings(projector_writer,config)\n",
    "\n",
    "\n",
    "for i in range (max_steps):\n",
    "    #每个批次100个样本\n",
    "    batch_xs,batch_ys = mnist.train.next_batch(100)\n",
    "    run_options = tf.RunOptions(trace_level=tf.RunOptions.FULL_TRACE)\n",
    "    run_metadata = tf.RunMetadata()\n",
    "    summary,_=sess.run([merged,train_step],feed_dict={x:batch_xs,y:batch_ys},options=run_options,run_metadata=run_metadata)\n",
    "    projector_writer.add_run_metadata(run_metadata,'step%03d' % i)\n",
    "    projector_writer.add_summary(summary,i)\n",
    "\n",
    "    if i%5 == 0:\n",
    "        acc = sess.run(accuracy,feed_dict={x:mnist.test.images,y:mnist.test.labels})\n",
    "        print (\"Iter \" + str(i) +\" , Testing Accuracy= \" + str (acc))\n",
    "\n",
    "saver.save(sess,DIR +'/projector/projector/a_model.ckpt',global_step=max_steps)\n",
    "projector_writer.close()\n",
    "sess.close()"
   ]
  }
 ],
 "metadata": {
  "kernelspec": {
   "display_name": "Python 3",
   "language": "python",
   "name": "python3"
  },
  "language_info": {
   "codemirror_mode": {
    "name": "ipython",
    "version": 3
   },
   "file_extension": ".py",
   "mimetype": "text/x-python",
   "name": "python",
   "nbconvert_exporter": "python",
   "pygments_lexer": "ipython3",
   "version": "3.7.4"
  }
 },
 "nbformat": 4,
 "nbformat_minor": 2
}
